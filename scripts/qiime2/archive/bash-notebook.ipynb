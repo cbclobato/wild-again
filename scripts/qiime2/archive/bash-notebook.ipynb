{
 "cells": [
  {
   "cell_type": "markdown",
   "metadata": {
    "pycharm": {
     "name": "#%% md\n"
    }
   },
   "source": [
    "# Setup\n",
    "\n",
    "Check: https://cutadapt.readthedocs.io/en/stable/guide.html?highlight=mixed#demultiplexing-paired-end-reads-in-mixed-orientation"
   ]
  },
  {
   "cell_type": "code",
   "execution_count": 1,
   "metadata": {
    "pycharm": {
     "name": "#%%\n"
    }
   },
   "outputs": [
    {
     "name": "stdout",
     "output_type": "stream",
     "text": [
      "(qiime2-2022.2) (qiime2-2022.2) (qiime2-2022.2) (qiime2-2022.2) (qiime2-2022.2) (qiime2-2022.2) (qiime2-2022.2) "
     ]
    },
    {
     "ename": "",
     "evalue": "1",
     "output_type": "error",
     "traceback": []
    }
   ],
   "source": [
    "# Activate environment\n",
    "# conda activate qiime2-2021.4\n",
    "conda activate qiime2-2022.2\n",
    "\n",
    "# Go to root directory\n",
    "if [ -z \"${ROOT+x}\" ]; then\n",
    "  cd ../..\n",
    "  export ROOT=true\n",
    "fi\n",
    "pwd\n",
    "\n",
    "# export RESULTS_DIR=\"pair-adapters\" POOL=CB1\n",
    "export RESULTS_DIR=\"anchored\" POOL=CB1\n",
    "#export RESULTS_DIR=\"combinatorial\" POOL=CB1\n",
    "export OUTPUT_DIR=\"results/${RESULTS_DIR}/${POOL}\"\n",
    "mkdir -p $OUTPUT_DIR/demux"
   ]
  },
  {
   "cell_type": "markdown",
   "metadata": {
    "pycharm": {
     "name": "#%% md\n"
    }
   },
   "source": [
    "# Demultiplex"
   ]
  },
  {
   "cell_type": "code",
   "execution_count": 2,
   "metadata": {
    "pycharm": {
     "name": "#%%\n"
    }
   },
   "outputs": [
    {
     "name": "stdout",
     "output_type": "stream",
     "text": [
      "(qiime2-2022.2) "
     ]
    },
    {
     "ename": "",
     "evalue": "1",
     "output_type": "error",
     "traceback": []
    }
   ],
   "source": [
    "# Pair-adapters\n",
    "cutadapt \\\n",
    "--cores 8 \\\n",
    "--pair-adapters \\\n",
    "-g \"file:metadata/${POOL}/^bc-fw.fasta\" \\\n",
    "-G \"file:metadata/${POOL}/^bc-rv.fasta\" \\\n",
    "-o \"${OUTPUT_DIR}/demux/round1-{name}-1.fastq.gz\" \\\n",
    "-p \"${OUTPUT_DIR}/demux/round1-{name}-2.fastq.gz\" \\\n",
    "\"datasets/${POOL}/forward.fastq.gz\" \"datasets/${POOL}/reverse.fastq.gz\" \\\n",
    "--no-indels \\\n",
    "--errors 0"
   ]
  },
  {
   "cell_type": "code",
   "execution_count": null,
   "outputs": [],
   "source": [
    "# Flipped\n",
    "cutadapt -g file:barcodes.fasta \\\n",
    "-g \"file:metadata/${POOL}/bc-fw.fasta\" \\\n",
    "-G \"file:metadata/${POOL}/bc-rv.fasta\" \\\n",
    "-o \"round2-{name}-2.fastq.gz\" \\\n",
    "-p \"round2-{name}-1.fastq.gz\" \\\n",
    "round1-unknown-2.fastq.gz round1-unknown-1.fastq.gz"
   ],
   "metadata": {
    "collapsed": false,
    "pycharm": {
     "name": "#%%\n"
    }
   }
  },
  {
   "cell_type": "code",
   "execution_count": null,
   "outputs": [],
   "source": [
    "# Combinatorial\n",
    "cutadapt \\\n",
    "--cores 8 \\\n",
    "-g \"file:metadata/${POOL}/bc-fw-idx.fasta\" \\\n",
    "-G \"file:metadata/${POOL}/bc-rv-idx.fasta\" \\\n",
    "-o \"${OUTPUT_DIR}/demux/{name1}-{name2}-1.fastq.gz\" \\\n",
    "-p \"${OUTPUT_DIR}/demux/{name1}-{name2}-2.fastq.gz\" \\\n",
    "\"datasets/${POOL}/forward.fastq.gz\" \"datasets/${POOL}/reverse.fastq.gz\" \\\n",
    "--no-indels \\\n",
    "--errors 0 &> \"${OUTPUT_DIR}/cutadapt.log\""
   ],
   "metadata": {
    "collapsed": false,
    "pycharm": {
     "name": "#%%\n"
    }
   }
  },
  {
   "cell_type": "code",
   "execution_count": null,
   "outputs": [],
   "source": [
    "mmv < \"metadata/${POOL}/mv-pattern.txt\""
   ],
   "metadata": {
    "collapsed": false,
    "pycharm": {
     "name": "#%%\n"
    }
   }
  },
  {
   "cell_type": "code",
   "execution_count": null,
   "outputs": [],
   "source": [],
   "metadata": {
    "collapsed": false,
    "pycharm": {
     "name": "#%%\n"
    }
   }
  },
  {
   "cell_type": "markdown",
   "source": [],
   "metadata": {
    "collapsed": false,
    "pycharm": {
     "name": "#%% md\n"
    }
   }
  },
  {
   "cell_type": "markdown",
   "metadata": {
    "pycharm": {
     "name": "#%% md\n"
    }
   },
   "source": [
    "# Import"
   ]
  },
  {
   "cell_type": "code",
   "execution_count": null,
   "metadata": {
    "pycharm": {
     "name": "#%%\n"
    }
   },
   "outputs": [],
   "source": [
    "cd ${OUTPUT_DIR} ||\n",
    "qiime tools import \\\n",
    "    --type \"SampleData[PairedEndSequencesWithQuality]\" \\\n",
    "    --input-path manifest.csv \\\n",
    "    --input-format PairedEndFastqManifestPhred33 \\\n",
    "    --output-path \"demux.qza\""
   ]
  },
  {
   "cell_type": "code",
   "execution_count": null,
   "metadata": {
    "pycharm": {
     "name": "#%%\n"
    }
   },
   "outputs": [],
   "source": [
    "qiime demux summarize \\\n",
    "    --i-data \"demux.qza\" \\\n",
    "    --o-visualization \"demux.qzv\""
   ]
  },
  {
   "cell_type": "code",
   "execution_count": null,
   "outputs": [],
   "source": [
    "qiime tools view \"demux.qzv\""
   ],
   "metadata": {
    "collapsed": false,
    "pycharm": {
     "name": "#%%\n"
    }
   }
  },
  {
   "cell_type": "markdown",
   "metadata": {
    "pycharm": {
     "name": "#%% md\n"
    }
   },
   "source": [
    "# Denoise and Filter"
   ]
  },
  {
   "cell_type": "code",
   "execution_count": null,
   "metadata": {
    "pycharm": {
     "name": "#%%\n"
    }
   },
   "outputs": [],
   "source": [
    "qiime dada2 denoise-paired \\\n",
    "    --i-demultiplexed-seqs \"demux.qza\" \\\n",
    "    --p-trim-left-f 19 \\\n",
    "    --p-trim-left-r 20 \\\n",
    "    --p-trunc-len-f 200 \\\n",
    "    --p-trunc-len-r 200 \\\n",
    "    --p-n-threads 6 \\\n",
    "    --o-table \"table.qza\" \\\n",
    "    --o-representative-sequences \"representative-sequences.qza\" \\\n",
    "    --o-denoising-stats \"denoising-stats.qza\" \\\n",
    "    --verbose"
   ]
  },
  {
   "cell_type": "code",
   "execution_count": null,
   "metadata": {
    "pycharm": {
     "name": "#%%\n"
    }
   },
   "outputs": [],
   "source": [
    "qiime metadata tabulate \\\n",
    "    --m-input-file \"denoising-stats.qza\" \\\n",
    "    --o-visualization \"denoising-stats.qzv\""
   ]
  },
  {
   "cell_type": "markdown",
   "metadata": {
    "pycharm": {
     "name": "#%% md\n"
    }
   },
   "source": [
    "# Taxonomy"
   ]
  },
  {
   "cell_type": "code",
   "execution_count": null,
   "metadata": {
    "pycharm": {
     "name": "#%%\n"
    }
   },
   "outputs": [],
   "source": [
    "# 16S\n",
    "qiime feature-classifier classify-consensus-vsearch\n",
    "    --i-query 'representative-sequences.qza' \\\n",
    "    --i-reference-reads 'silva-138-99-seqs.qza path' \\\n",
    "    --i-reference-taxonomy 'silva-138-99-tax.qza path' \\\n",
    "    --p-threads 6 \\\n",
    "    --o-classification '16S-taxonomy-vsearch.qza'\n",
    "\n",
    "# ITS\n",
    "qiime feature-classifier classify-consensus-vsearch \\\n",
    "    --i-query 'ITS-rep-seqs-dada2.qza path' \\\n",
    "    --i-reference-reads 'unite-8-99-seqs.qza path' \\\n",
    "    --i-reference-taxonomy 'unite-8-99-tax.qza path' \\\n",
    "    --p-threads 6 \\\n",
    "    --o-classification 'ITS-taxonomy-vsearch.qza'"
   ]
  },
  {
   "cell_type": "code",
   "execution_count": null,
   "metadata": {
    "pycharm": {
     "name": "#%%\n"
    }
   },
   "outputs": [],
   "source": [
    "qiime taxa filter-table \\\n",
    "    --i-table \"table.qza\" \\\n",
    "    --i-taxonomy \"taxonomy-v-search.qza\" \\\n",
    "    --p-exclude \"mitochondria,chloroplast\" \\\n",
    "    --o-filtered-table \"filtered-table.qza\""
   ]
  },
  {
   "cell_type": "code",
   "execution_count": null,
   "metadata": {
    "pycharm": {
     "name": "#%%\n"
    }
   },
   "outputs": [],
   "source": [
    "qiime taxa filter-seqs \\\n",
    "    --i-sequences \"representative-sequences.qzq\" \\\n",
    "    --i-taxonomy \"taxonomy-v-search.qza\" \\\n",
    "    --p-exclude \"mitochondria,chloroplast\" \\\n",
    "    --o-filtered-sequences \"filtered-sequences.qza\""
   ]
  },
  {
   "cell_type": "markdown",
   "metadata": {
    "pycharm": {
     "name": "#%% md\n"
    }
   },
   "source": [
    "# Visualizations"
   ]
  },
  {
   "cell_type": "code",
   "execution_count": null,
   "metadata": {
    "pycharm": {
     "name": "#%%\n"
    }
   },
   "outputs": [],
   "source": [
    "qiime taxa barplot \\\n",
    "    --i-table \"filtered-table.qza\" \\\n",
    "    --i-taxonomy \"taxonomy-vsearch.qza\" \\\n",
    "    --m-metadata-file \"mapping-file.txt\" \\\n",
    "    --o-visualization \"barplot.qzv\"\n",
    "\n",
    "qiime feature-table summarize \\\n",
    "    --i-table \"filtered-table.qza\" \\\n",
    "    --m-sample-metadata-file \"mappingfile.tsv\" \\\n",
    "    --o-visualization \"feature-table.qzv\"\n",
    "\n",
    "qiime feature-table tabulate-seqs \\\n",
    "    --i-data \"filtered-sequences.qza\" \\\n",
    "    --o-visualization \"sequence-table.qzv\""
   ]
  },
  {
   "cell_type": "code",
   "execution_count": null,
   "metadata": {
    "pycharm": {
     "name": "#%%\n"
    }
   },
   "outputs": [],
   "source": [
    "## Philogeny\n",
    "qiime phylogeny align-to-tree-mafft-fasttree \\\n",
    "    --i-sequences \"rep-seqs-no-plastids.qza\" \\\n",
    "    --output-dir \"phylogeny\"\n",
    "\n",
    "## Diversity\n",
    "qiime diversity core-metrics-phylogenetic \\\n",
    "    --i-table \"table-no-plastids.qza\" \\\n",
    "    --i-phylogeny \"rooted_tree.qza\" \\\n",
    "    --p-sampling-depth \"median freq from feature-table summarize\" \\\n",
    "    --m-metadata-file \"mapping-file.txt\" \\\n",
    "    --output-dir  \"core-diversity-metrics\"\n",
    "\n",
    "## Alpha Rarefaction\n",
    "qiime diversity alpha-rarefaction \\\n",
    " --i-table \"table-no-plastids.qza\" \\\n",
    " --i-phylogeny \"rooted_tree.qza\" \\\n",
    " --p-max-depth \"median freq from feature-table summary\" \\\n",
    " --m-metadata-file \"mapping-file.txt\" \\\n",
    " --o-visualization alpha-rarefaction.qzv\n",
    "\n",
    "## Group Significance\n",
    "qiime diversity alpha-group-significance \\\n",
    "    --i-alpha-diversity \"shannon_vector.qza\" \\\n",
    "    --m-metadata-file \"mappingfile.txt\" \\\n",
    "    --o-visualization alpha-group-significance.qzv\n",
    "\n",
    "qiime diversity beta-group-significance \\\n",
    "    --i-distance-matrix \"bray_curtis_distance_matrix.qza\" \\\n",
    "    --m-metadata-file \"mapping file.txt\" \\\n",
    "    --p-method \"permanova\" \\\n",
    "    --p-pairwise \\\n",
    "     --m-metadata-column \"feature do compare\" \\\n",
    "     --o-visualization \"comparing-feature.qzv\""
   ]
  }
 ],
 "metadata": {
  "kernelspec": {
   "display_name": "Bash",
   "language": "bash",
   "name": "bash"
  },
  "language_info": {
   "codemirror_mode": "shell",
   "file_extension": ".sh",
   "mimetype": "text/x-sh",
   "name": "bash"
  }
 },
 "nbformat": 4,
 "nbformat_minor": 1
}